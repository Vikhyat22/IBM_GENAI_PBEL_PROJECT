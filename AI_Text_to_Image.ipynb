{
  "nbformat": 4,
  "nbformat_minor": 0,
  "metadata": {
    "colab": {
      "provenance": [],
      "gpuType": "T4",
      "include_colab_link": true
    },
    "kernelspec": {
      "name": "python3",
      "display_name": "Python 3"
    },
    "language_info": {
      "name": "python"
    },
    "accelerator": "GPU"
  },
  "cells": [
    {
      "cell_type": "markdown",
      "metadata": {
        "id": "view-in-github",
        "colab_type": "text"
      },
      "source": [
        "<a href=\"https://colab.research.google.com/github/Vikhyat22/IBM_GENAI_PBEL_PROJECT/blob/main/AI_Text_to_Image.ipynb\" target=\"_parent\"><img src=\"https://colab.research.google.com/assets/colab-badge.svg\" alt=\"Open In Colab\"/></a>"
      ]
    },
    {
      "cell_type": "markdown",
      "source": [
        "##🖼️ AI Text-to-Image Generator using Stable Diffusion\n",
        "\n",
        "This Google Colab notebook showcases how to generate high-quality images from text prompts using Stable Diffusion, a powerful latent diffusion model developed for text-to-image generation.\n",
        ">\n",
        "By utilizing the StableDiffusionPipeline from Hugging Face’s diffusers library, this project allows users to input a natural language description and receive a corresponding image created by the model.\n",
        ">\n",
        "Stable Diffusion is efficient, open-source, and capable of producing creative, realistic visuals — making it a valuable tool for developers, artists, and AI enthusiasts exploring generative models in visual media."
      ],
      "metadata": {
        "id": "0bduUZRgWuGz"
      }
    },
    {
      "cell_type": "code",
      "execution_count": null,
      "metadata": {
        "id": "tupuh2DojzwG"
      },
      "outputs": [],
      "source": [
        "!pip install diffusers transformers accelerate --upgrade\n",
        "!pip install safetensors"
      ]
    },
    {
      "cell_type": "code",
      "source": [
        "import torch\n",
        "from diffusers import StableDiffusionPipeline\n",
        "import matplotlib.pyplot as plt"
      ],
      "metadata": {
        "id": "v50iUMeQkwVO"
      },
      "execution_count": null,
      "outputs": []
    },
    {
      "cell_type": "code",
      "source": [
        "from google.colab import userdata\n",
        "from huggingface_hub import login\n",
        "\n",
        "hf_token = userdata.get('HF_TOKEN')\n",
        "\n",
        "login(token=hf_token)"
      ],
      "metadata": {
        "id": "uiLZkJTtoSjy"
      },
      "execution_count": null,
      "outputs": []
    },
    {
      "cell_type": "code",
      "source": [
        "pipe=StableDiffusionPipeline.from_pretrained(\n",
        "    \"runwayml/stable-diffusion-v1-5\",\n",
        "    torch_dtype=torch.float16,\n",
        "    USE_SAFETENSORS=True\n",
        "\n",
        ")\n",
        "pipe=pipe.to(\"cuda\")"
      ],
      "metadata": {
        "id": "q4qkXkLupApG"
      },
      "execution_count": null,
      "outputs": []
    },
    {
      "cell_type": "code",
      "source": [
        "user_prompt=input(\"Enter your prompt: \")\n",
        "image=pipe(user_prompt).images[0]\n",
        "plt.axis(\"off\")\n",
        "plt.title(\"Generated Image\")\n",
        "plt.imshow(image)\n",
        "plt.show()"
      ],
      "metadata": {
        "id": "kO9UA-zMqJ1M"
      },
      "execution_count": null,
      "outputs": []
    }
  ]
}